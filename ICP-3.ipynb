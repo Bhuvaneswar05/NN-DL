{
 "cells": [
  {
   "cell_type": "code",
   "execution_count": 1,
   "id": "1ff3bdf1",
   "metadata": {},
   "outputs": [
    {
     "name": "stdout",
     "output_type": "stream",
     "text": [
      "90000.0\n",
      "95000.0\n",
      "86666.66666666667\n"
     ]
    }
   ],
   "source": [
    "class Employee:\n",
    "    \n",
    "    employee_count =  0;\n",
    "    total_salary = 0;\n",
    "    \n",
    "    def __init__(self, name, family , salary , department):\n",
    "        self.name = name\n",
    "        self.family = family\n",
    "        self.salary = salary\n",
    "        self.department = department\n",
    "        Employee.employee_count += 1 \n",
    "        Employee.total_salary += salary\n",
    "        \n",
    "        \n",
    "    def calculate_average_salary(self):\n",
    "        return Employee.total_salary/Employee.employee_count\n",
    "        \n",
    "class Fulltime_Employee(Employee):\n",
    "    pass\n",
    "            \n",
    "              \n",
    "e1 = Employee(\"Bhuvaneswar\", \"Marreddy\", 90000, \"IT\")\n",
    "print(e1.calculate_average_salary()) \n",
    "\n",
    "e2 = Employee(\"Jane\", \"Doe\", 100000, \"Marketing\")\n",
    "print(e2.calculate_average_salary()) \n",
    "\n",
    "e3 = Fulltime_Employee(\"Bob\", \"Smith\", 70000, \"Sales\")\n",
    "print(e3.calculate_average_salary()) \n"
   ]
  },
  {
   "cell_type": "markdown",
   "id": "6fef5464",
   "metadata": {},
   "source": [
    "Here Employee class with a data member employee_count to count the number of Employees, and total_salary to keep track of the total salary of all employees. The class also has a constructor __init__ that takes in the parameters name, family, salary, and department, and assigns them to the object's properties. The constructor also increments the employee_count by 1 and adds the salary to the total_salary for each employee that is created.\n",
    "\n",
    "It also has a method calculate_average_salary which returns the average salary of all the employees by dividing the total_salary by the employee_count.\n",
    "\n",
    "This code also creates a class Fulltime_Employee which inherits the properties of the Employee class using Fulltime_Employee(Employee).\n",
    "\n",
    "Then the code creates an instance obj of the Employee class, obj1 and obj2 of the Fulltime_Employee class, and assigns values to their properties.\n",
    "\n",
    "Finally, the code calls the calculate_average_salary method on the obj2 instance and print the result.\n",
    "\n",
    "The code will run without any error, but the output might not be what is expected. The average salary will be incorrect because the total salary is not being reinitialized when a new employee is created, and the employee_count is not reinitialized. In this way, the total_salary would be the sum of all employees who ever existed and employee count would be the total number of employees who ever existed. So, the average salary would not be accurate for the current set of employees.\n",
    "\n",
    "For the proper calculation of average salary, you should reinitialize the employee_count and total_salary in the constructor every time an employee object is created."
   ]
  },
  {
   "cell_type": "code",
   "execution_count": 80,
   "id": "1d770cab",
   "metadata": {},
   "outputs": [
    {
     "name": "stdout",
     "output_type": "stream",
     "text": [
      "random vector of size 20\n",
      "[ 1.42502644 11.57424847 14.16089254 10.08087049 13.02198103  7.7372675\n",
      " 15.68608333 19.94899845 11.27415491  8.28273852  1.69075634 18.85318784\n",
      "  8.16373357 10.76843832  2.21991826  3.05850928  5.25456119  7.98100824\n",
      "  9.5239159   4.5203491 ]\n",
      "After reshaping the array to 4 by 5\n",
      "[[ 1.42502644 11.57424847 14.16089254 10.08087049 13.02198103]\n",
      " [ 7.7372675  15.68608333 19.94899845 11.27415491  8.28273852]\n",
      " [ 1.69075634 18.85318784  8.16373357 10.76843832  2.21991826]\n",
      " [ 3.05850928  5.25456119  7.98100824  9.5239159   4.5203491 ]]\n",
      "final array output\n",
      "[[ 1.42502644 11.57424847  0.         10.08087049 13.02198103]\n",
      " [ 7.7372675  15.68608333  0.         11.27415491  8.28273852]\n",
      " [ 1.69075634  0.          8.16373357 10.76843832  2.21991826]\n",
      " [ 3.05850928  5.25456119  7.98100824  0.          4.5203491 ]]\n"
     ]
    }
   ],
   "source": [
    "import numpy as np\n",
    "\n",
    "initial_vector = np.random.uniform(1, 20, 20)\n",
    "\n",
    "print(\"random vector of size 20\")\n",
    "print(initial_vector)\n",
    "\n",
    "resized_array = initial_vector.reshape(4, 5)\n",
    "\n",
    "print(\"After reshaping the array to 4 by 5\")\n",
    "print(resized_array)\n",
    "\n",
    "final_array = np.where(resized_array == np.amax(resized_array, axis=1, keepdims=True), 0, resized_array)\n",
    "\n",
    "print(\"final array output\")\n",
    "print(final_array)"
   ]
  },
  {
   "cell_type": "markdown",
   "id": "82c48ee5",
   "metadata": {},
   "source": [
    "Here np.random.uniform(1, 20, 20) creates a random vector of size 20 with floats in the range of 1-20. \n",
    "\n",
    "np.reshape(vec, (4, 5)) reshapes the vector to a 4x5 array. \n",
    "\n",
    "The line arr = np.where(arr == np.amax(arr, axis=1, keepdims=True), 0, arr) uses the numpy.where() function to replace the maximum element in each row of the array arr with 0.\n",
    "\n",
    "The numpy.where() function is used to return elements, depending on the condition.\n",
    "\n",
    "The condition here is arr == np.amax(resized_array, axis=1, keepdims=True), which returns a boolean array of the same shape as resized_array where the elements are True if the element of resized_array is equal to the maximum value of the corresponding row and False otherwise.\n",
    "\n",
    "np.amax(resized_array, axis=1, keepdims=True) returns the maximum element of each row of arr along the specified axis (1), and keepdims=True is used to keep the dimensions of the resulting array with size 1 along the axis of the max.\n",
    "\n",
    "so the numpy.where() function replaces all elements of arr that are equal to the maximum value of the corresponding row with 0 and keeps the other elements unchanged.\n"
   ]
  },
  {
   "cell_type": "code",
   "execution_count": null,
   "id": "b93a2745",
   "metadata": {},
   "outputs": [],
   "source": []
  }
 ],
 "metadata": {
  "kernelspec": {
   "display_name": "Python 3 (ipykernel)",
   "language": "python",
   "name": "python3"
  },
  "language_info": {
   "codemirror_mode": {
    "name": "ipython",
    "version": 3
   },
   "file_extension": ".py",
   "mimetype": "text/x-python",
   "name": "python",
   "nbconvert_exporter": "python",
   "pygments_lexer": "ipython3",
   "version": "3.9.13"
  }
 },
 "nbformat": 4,
 "nbformat_minor": 5
}
