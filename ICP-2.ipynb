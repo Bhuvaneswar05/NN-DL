{
 "cells": [
  {
   "cell_type": "code",
   "execution_count": 13,
   "id": "c56d45f0",
   "metadata": {},
   "outputs": [
    {
     "name": "stdout",
     "output_type": "stream",
     "text": [
      "your first name : Good\n",
      "your last name : evening\n",
      "your full name : Go vnn\n"
     ]
    }
   ],
   "source": [
    "def string_alternative(name):\n",
    "    li = list(name)\n",
    "    final_output = ''\n",
    "    for i in range(len(li)):\n",
    "        if(i % 2 == 0 ):\n",
    "            final_output += li[i]\n",
    "    return \"your full name : \"+final_output  \n",
    "        \n",
    "first_name = input(\"your first name : \")\n",
    "last_name = input(\"your last name : \")\n",
    "\n",
    "print(string_alternative(first_name+\" \"+last_name))"
   ]
  },
  {
   "cell_type": "markdown",
   "id": "bd6d3ace",
   "metadata": {},
   "source": [
    "I have concatinated the first name and last name and passed that string to string_alternative function. In function i have converted string to list and just take even index char from list which returns the required full name."
   ]
  },
  {
   "cell_type": "code",
   "execution_count": 85,
   "id": "150fa5e3",
   "metadata": {},
   "outputs": [
    {
     "name": "stdout",
     "output_type": "stream",
     "text": [
      "Python Course\n",
      "\n",
      "Deep Learning Course \n",
      "\n",
      "Word_Count: \n",
      "\n",
      "Python:1\n",
      "Course:2\n",
      "Deep:1\n",
      "Learning:1\n"
     ]
    }
   ],
   "source": [
    "def read_text_file():\n",
    "    text_file = open('input.txt')\n",
    "    lines_to_string = ''\n",
    "    for i in text_file:\n",
    "        lines_to_string += i\n",
    "        print(i)\n",
    "    text_file.close()\n",
    "    return lines_to_string\n",
    "\n",
    "def count_words_in_text(str):\n",
    "    count_words = dict()\n",
    "    list_words = str.split()\n",
    "\n",
    "    for word in list_words:\n",
    "        if word in count_words:\n",
    "            count_words[word] += 1\n",
    "        else:\n",
    "            count_words[word] = 1\n",
    "    return count_words\n",
    "\n",
    "\n",
    "count_of_words_dict =  count_words_in_text(read_text_file())\n",
    "\n",
    "list_of_the_values = list(count_of_words_dict.values())\n",
    "index= 0;\n",
    "\n",
    "print(\"\\nWord_Count: \\n\")\n",
    "for k in count_of_words_dict:\n",
    "    print(k +\":\" + str(list_of_the_values[index]))\n",
    "    index+=1"
   ]
  },
  {
   "cell_type": "code",
   "execution_count": null,
   "id": "06794c00",
   "metadata": {},
   "outputs": [],
   "source": [
    "I have created read_text_file function to read data from text file and returned text file data in string\n",
    "Created second function count_words_in_text which uses dictonary and splits the string to words list. \n",
    "Then using for loop to wordslist added word as key and count as value for dictonary and returns final dictonary\n",
    "\n",
    "in main function called both methods which returns dictonary with words and count\n",
    "used for loop to print the wordsd and count in output"
   ]
  },
  {
   "cell_type": "code",
   "execution_count": 84,
   "id": "3313a46f",
   "metadata": {},
   "outputs": [
    {
     "name": "stdout",
     "output_type": "stream",
     "text": [
      "type customer height or 0 to exit\n",
      "Customer height :45\n",
      "Customer height :43\n",
      "Customer height :40\n",
      "Customer height :39\n",
      "Customer height :0\n",
      "[45, 43, 40, 39]\n",
      "[114.3, 109.22, 101.6, 99.06]\n"
     ]
    }
   ],
   "source": [
    "print(\"type customer height or 0 to exit\")\n",
    "heights = int(input(\"Customer height :\"))\n",
    "inches_li=[]\n",
    "while(heights != 0):\n",
    "    inches_li.append(heights)\n",
    "    heights = int(input(\"Customer height :\"))\n",
    "\n",
    "print( inches_li)\n",
    "final_list = [i*2.54 for i in inches_li]\n",
    "print(final_list)\n"
   ]
  },
  {
   "cell_type": "markdown",
   "id": "1298d877",
   "metadata": {},
   "source": [
    "used while loop for interacting with user to take input heights in inches and used list comprehension to convert the list if heights to list of heights in inches."
   ]
  }
 ],
 "metadata": {
  "kernelspec": {
   "display_name": "Python 3 (ipykernel)",
   "language": "python",
   "name": "python3"
  },
  "language_info": {
   "codemirror_mode": {
    "name": "ipython",
    "version": 3
   },
   "file_extension": ".py",
   "mimetype": "text/x-python",
   "name": "python",
   "nbconvert_exporter": "python",
   "pygments_lexer": "ipython3",
   "version": "3.9.13"
  }
 },
 "nbformat": 4,
 "nbformat_minor": 5
}
