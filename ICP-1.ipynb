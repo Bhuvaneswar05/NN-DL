{
 "cells": [
  {
   "cell_type": "code",
   "execution_count": 42,
   "id": "f686ee65",
   "metadata": {},
   "outputs": [
    {
     "name": "stdout",
     "output_type": "stream",
     "text": [
      "Enter input : python\n",
      "Output :htyp\n"
     ]
    }
   ],
   "source": [
    "user_input = input(\"Enter input : \")\n",
    "\n",
    "input_len = len(user_input)\n",
    "\n",
    "print(\"Output :\"+user_input[(input_len- 3)::-1])"
   ]
  },
  {
   "cell_type": "raw",
   "id": "14ea3139",
   "metadata": {},
   "source": [
    "Used the len method to found the length of string and used slice that steps by -1 and reversed by leaving last 2 characters"
   ]
  },
  {
   "cell_type": "code",
   "execution_count": 40,
   "id": "ae31ce8d",
   "metadata": {},
   "outputs": [
    {
     "name": "stdout",
     "output_type": "stream",
     "text": [
      "Enter String :i am python python\n",
      "Output : i am pythons pythons\n"
     ]
    }
   ],
   "source": [
    "user_input = input(\"Enter String :\")\n",
    "\n",
    "str_replace = user_input.replace(\"python\", \"pythons\")\n",
    "\n",
    "print(\"Output : \"+str_replace)"
   ]
  },
  {
   "cell_type": "markdown",
   "id": "f00dfd2b",
   "metadata": {},
   "source": [
    "Used replace methode is used to replace the 'python' string with 'pythons'"
   ]
  },
  {
   "cell_type": "code",
   "execution_count": 45,
   "id": "f2e39b68",
   "metadata": {},
   "outputs": [
    {
     "name": "stdout",
     "output_type": "stream",
     "text": [
      "Enter student score : 99\n",
      "A\n"
     ]
    }
   ],
   "source": [
    "def findGradeOfStudent(score):\n",
    "    if(score < 60):\n",
    "        print(\"F\")\n",
    "    elif(score < 70):\n",
    "        print(\"D\")\n",
    "    elif(score < 80):\n",
    "        print(\"C\")\n",
    "    elif(score < 90):\n",
    "        print(\"B\")\n",
    "    else:\n",
    "        print(\"A\")\n",
    "    \n",
    "    \n",
    "user_input = int(input(\"Enter student score : \"))\n",
    "findGradeOfStudent(user_input)"
   ]
  },
  {
   "cell_type": "markdown",
   "id": "db87000f",
   "metadata": {},
   "source": [
    "Created a function to print the grade of student with if-elif-else and passed input int value to the function"
   ]
  },
  {
   "cell_type": "code",
   "execution_count": null,
   "id": "33cb159c",
   "metadata": {},
   "outputs": [],
   "source": []
  }
 ],
 "metadata": {
  "kernelspec": {
   "display_name": "Python 3 (ipykernel)",
   "language": "python",
   "name": "python3"
  },
  "language_info": {
   "codemirror_mode": {
    "name": "ipython",
    "version": 3
   },
   "file_extension": ".py",
   "mimetype": "text/x-python",
   "name": "python",
   "nbconvert_exporter": "python",
   "pygments_lexer": "ipython3",
   "version": "3.9.13"
  }
 },
 "nbformat": 4,
 "nbformat_minor": 5
}
