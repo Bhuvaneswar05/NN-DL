{
 "cells": [
  {
   "cell_type": "code",
   "execution_count": 42,
   "id": "f686ee65",
   "metadata": {},
   "outputs": [
    {
     "name": "stdout",
     "output_type": "stream",
     "text": [
      "Enter input : python\n",
      "Output :htyp\n"
     ]
    }
   ],
   "source": [
    "user_input = input(\"Enter input : \")\n",
    "\n",
    "input_len = len(user_input)\n",
    "\n",
    "print(\"Output :\"+user_input[(input_len- 3)::-1])"
   ]
  },
  {
   "cell_type": "code",
   "execution_count": 7,
   "id": "f7f44c16",
   "metadata": {},
   "outputs": [
    {
     "name": "stdout",
     "output_type": "stream",
     "text": [
      "number 1 : 34\n",
      "number 2 : 13\n",
      "Division : 2.6153846153846154\n",
      "Floor division : 2\n",
      "Multiplication : 442\n",
      "Modulus :8\n"
     ]
    }
   ],
   "source": [
    "user_input1 = int(input(\"number 1 : \"))\n",
    "user_input2 = int(input(\"number 2 : \"))\n",
    "\n",
    "print(\"Division : \"+str(user_input1 / user_input2) )\n",
    "print(\"Floor division : \"+ str(user_input1//user_input2) )\n",
    "print(\"Multiplication : \"+str(user_input1 * user_input2) )\n",
    "print(\"Modulus :\"+str(user_input1 % user_input2) )"
   ]
  },
  {
   "cell_type": "markdown",
   "id": "08c89f71",
   "metadata": {},
   "source": [
    "Used the len method to found the length of string and used slice that steps by -1 and reversed by leaving last 2 characters and did 4 arthematic operations"
   ]
  },
  {
   "cell_type": "code",
   "execution_count": 40,
   "id": "ae31ce8d",
   "metadata": {},
   "outputs": [
    {
     "name": "stdout",
     "output_type": "stream",
     "text": [
      "Enter String :i am python python\n",
      "Output : i am pythons pythons\n"
     ]
    }
   ],
   "source": [
    "user_input = input(\"Enter String :\")\n",
    "\n",
    "str_replace = user_input.replace(\"python\", \"pythons\")\n",
    "\n",
    "print(\"Output : \"+str_replace)"
   ]
  },
  {
   "cell_type": "markdown",
   "id": "f00dfd2b",
   "metadata": {},
   "source": [
    "Used replace method is used to replace the 'python' string with 'pythons'"
   ]
  },
  {
   "cell_type": "code",
   "execution_count": 45,
   "id": "f2e39b68",
   "metadata": {},
   "outputs": [
    {
     "name": "stdout",
     "output_type": "stream",
     "text": [
      "Enter student score : 99\n",
      "A\n"
     ]
    }
   ],
   "source": [
    "def findGradeOfStudent(score):\n",
    "    if(score < 60):\n",
    "        print(\"F\")\n",
    "    elif(score < 70):\n",
    "        print(\"D\")\n",
    "    elif(score < 80):\n",
    "        print(\"C\")\n",
    "    elif(score < 90):\n",
    "        print(\"B\")\n",
    "    else:\n",
    "        print(\"A\")\n",
    "    \n",
    "    \n",
    "user_input = int(input(\"Enter student score : \"))\n",
    "findGradeOfStudent(user_input)"
   ]
  },
  {
   "cell_type": "markdown",
   "id": "db87000f",
   "metadata": {},
   "source": [
    "Created a function to print the grade of student with if-elif-else and passed input int value to the function"
   ]
  },
  {
   "cell_type": "code",
   "execution_count": null,
   "id": "33cb159c",
   "metadata": {},
   "outputs": [],
   "source": []
  }
 ],
 "metadata": {
  "kernelspec": {
   "display_name": "Python 3 (ipykernel)",
   "language": "python",
   "name": "python3"
  },
  "language_info": {
   "codemirror_mode": {
    "name": "ipython",
    "version": 3
   },
   "file_extension": ".py",
   "mimetype": "text/x-python",
   "name": "python",
   "nbconvert_exporter": "python",
   "pygments_lexer": "ipython3",
   "version": "3.9.13"
  }
 },
 "nbformat": 4,
 "nbformat_minor": 5
}
