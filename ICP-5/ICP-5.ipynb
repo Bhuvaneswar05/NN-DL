{
 "cells": [
  {
   "cell_type": "code",
   "execution_count": 77,
   "id": "02afb4d7",
   "metadata": {},
   "outputs": [
    {
     "name": "stdout",
     "output_type": "stream",
     "text": [
      "Accuracy: 60.62\n",
      "Classification Report:\n",
      "               precision    recall  f1-score   support\n",
      "\n",
      "           1       0.39      0.87      0.54        15\n",
      "           2       0.80      0.18      0.30        22\n",
      "           3       0.40      0.29      0.33         7\n",
      "           5       1.00      0.67      0.80         3\n",
      "           6       0.75      0.75      0.75         4\n",
      "           7       0.60      1.00      0.75         3\n",
      "\n",
      "    accuracy                           0.50        54\n",
      "   macro avg       0.66      0.63      0.58        54\n",
      "weighted avg       0.63      0.50      0.46        54\n",
      "\n"
     ]
    }
   ],
   "source": [
    "import pandas as pd\n",
    "from sklearn.model_selection import train_test_split\n",
    "from sklearn.naive_bayes import GaussianNB\n",
    "from sklearn.metrics import classification_report\n",
    "\n",
    "# Load the glass dataset\n",
    "glass_df = pd.read_csv(\"glass.csv\")\n",
    "\n",
    "# Split the data into training and testing sets\n",
    "X = glass_df.drop(\"Type\", axis=1)\n",
    "y = glass_df[\"Type\"]\n",
    "X_train, X_test, y_train, y_test = train_test_split(X, y, test_size=0.25)\n",
    "\n",
    "# Train the Gaussian Naive Bayes model\n",
    "gnb_model = GaussianNB()\n",
    "gnb_model.fit(X_train, y_train)\n",
    "\n",
    "# Predict on the test set\n",
    "y_pred = gnb_model.predict(X_test)\n",
    "\n",
    "# Evaluate the model\n",
    "gnb_svc = round(gnb_model.score(X_train, y_train) * 100, 2)\n",
    "\n",
    "print(\"Accuracy:\", gnb_svc)\n",
    "print(\"Classification Report:\\n\", classification_report(y_test, y_pred , zero_division=1))\n"
   ]
  },
  {
   "cell_type": "markdown",
   "id": "d1e5a487",
   "metadata": {},
   "source": [
    "Here imported pandas to load DataFrame to glass_df variable, then splits the dataframe to train and test data sets with test size of 0.25.\n",
    "\n",
    "The Gaussian Naive Bayes model is trained on the training data using the fit method. After training, the model is used to make predictions on the test set using the predict method.\n",
    "\n",
    "Finally, the accuracy of the model is evaluated using the score method and a classification report is generated using the classification_report method. The accuracy score and the classification report give an insight into the performance of the model on the test set."
   ]
  },
  {
   "cell_type": "code",
   "execution_count": 84,
   "id": "2e230765",
   "metadata": {},
   "outputs": [
    {
     "name": "stdout",
     "output_type": "stream",
     "text": [
      "Accuracy: 37.5\n",
      "Classification Report:\n",
      "               precision    recall  f1-score   support\n",
      "\n",
      "           1       1.00      0.00      0.00        19\n",
      "           2       0.43      0.91      0.58        23\n",
      "           3       0.00      0.00      0.00         3\n",
      "           5       1.00      0.00      0.00         1\n",
      "           6       0.00      0.00      0.00         1\n",
      "           7       1.00      0.14      0.25         7\n",
      "\n",
      "    accuracy                           0.41        54\n",
      "   macro avg       0.57      0.18      0.14        54\n",
      "weighted avg       0.68      0.41      0.28        54\n",
      "\n"
     ]
    },
    {
     "name": "stderr",
     "output_type": "stream",
     "text": [
      "C:\\Users\\bhuva\\anaconda3\\lib\\site-packages\\sklearn\\svm\\_base.py:1206: ConvergenceWarning: Liblinear failed to converge, increase the number of iterations.\n",
      "  warnings.warn(\n"
     ]
    }
   ],
   "source": [
    "import pandas as pd\n",
    "from sklearn.model_selection import train_test_split\n",
    "from sklearn.svm import LinearSVC\n",
    "from sklearn.metrics import classification_report\n",
    "\n",
    "# Load the glass dataset\n",
    "glass_df = pd.read_csv(\"glass.csv\")\n",
    "\n",
    "# Split the data into training and testing sets\n",
    "X = glass_df.drop(\"Type\", axis=1)\n",
    "y = glass_df[\"Type\"]\n",
    "X_train, X_test, y_train, y_test = train_test_split(X, y, test_size=0.25)\n",
    "\n",
    "# Train the linear SVM model\n",
    "svm_model = LinearSVC()\n",
    "svm_model.fit(X_train, y_train)\n",
    "\n",
    "# Predict on the test set\n",
    "y_pred = svm_model.predict(X_test)\n",
    "\n",
    "# Evaluate the model\n",
    "svm_accuracy = round(svm_model.score(X_train, y_train) * 100, 2)\n",
    "print(\"Accuracy:\", svm_accuracy)\n",
    "\n",
    "print(\"Classification Report:\\n\", classification_report(y_test, y_pred , zero_division=1))\n"
   ]
  },
  {
   "cell_type": "markdown",
   "id": "f8f7b003",
   "metadata": {},
   "source": [
    "Here imported pandas to load DataFrame to glass_df variable, then splits the dataframe to train and test data sets with test size of 0.25.\n",
    "\n",
    "The SVC model is trained on the training data using the fit method. After training, the model is used to make predictions on the test set using the predict method.\n",
    "\n",
    "Finally, the accuracy of the model is evaluated using the score method and a classification report is generated using the classification_report method. The accuracy score and the classification report give an insight into the performance of the model on the test set."
   ]
  },
  {
   "cell_type": "markdown",
   "id": "7262c70b",
   "metadata": {},
   "source": [
    "## Which algorithm you got better accuracy? Can you justify why?\n",
    "\n",
    "From the results, it looks like the Gaussian Naive Bayes algorithm has a higher accuracy compared to the linear SVM  Gaussian Naive Bayes algorithm. In this case, the SVM model has an accuracy of 37.5% while the Gaussian Naive Bayes algorithm has an accuracy of 60.62%.\n"
   ]
  },
  {
   "cell_type": "code",
   "execution_count": null,
   "id": "c7dbf301",
   "metadata": {},
   "outputs": [],
   "source": []
  }
 ],
 "metadata": {
  "kernelspec": {
   "display_name": "Python 3 (ipykernel)",
   "language": "python",
   "name": "python3"
  },
  "language_info": {
   "codemirror_mode": {
    "name": "ipython",
    "version": 3
   },
   "file_extension": ".py",
   "mimetype": "text/x-python",
   "name": "python",
   "nbconvert_exporter": "python",
   "pygments_lexer": "ipython3",
   "version": "3.9.13"
  }
 },
 "nbformat": 4,
 "nbformat_minor": 5
}
